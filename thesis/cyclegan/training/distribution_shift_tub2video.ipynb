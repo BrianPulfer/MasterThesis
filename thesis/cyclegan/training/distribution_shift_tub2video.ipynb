{
 "cells": [
  {
   "cell_type": "code",
   "execution_count": 1,
   "metadata": {},
   "outputs": [],
   "source": [
    "import os\n",
    "import cv2\n",
    "import numpy as np\n",
    "from matplotlib import pyplot as plt"
   ]
  },
  {
   "cell_type": "code",
   "execution_count": 10,
   "metadata": {},
   "outputs": [],
   "source": [
    "results_tub_path = '/Users/brianpulfer/Desktop/default_sim2real_dataset/images'"
   ]
  },
  {
   "cell_type": "code",
   "execution_count": 11,
   "metadata": {},
   "outputs": [
    {
     "name": "stdout",
     "output_type": "stream",
     "text": [
      "Done\n"
     ]
    }
   ],
   "source": [
    "def get_video(path, fake_images=True):\n",
    "    filenames = list(os.listdir(path))\n",
    "    filenames.sort(key=lambda filename: int(filename.split('_')[0]))\n",
    "    \n",
    "    videoname = 'fake' if fake_images else 'real'\n",
    "    \n",
    "    path = path + '/' if path[-1] != '/' else path\n",
    "    \n",
    "    img_array = [cv2.imread(path + filename) for filename in filenames if videoname in filename]\n",
    "    w, h, c = img_array[0].shape\n",
    "    size = (w, h)\n",
    "\n",
    "    out = cv2.VideoWriter(videoname+'.mp4',cv2.VideoWriter_fourcc(*'MP4V'), 15, size)\n",
    "\n",
    "    for i in range(len(img_array)):\n",
    "        out.write(img_array[i])\n",
    "    out.release()\n",
    "\n",
    "get_video(results_tub_path, fake_images=True)\n",
    "get_video(results_tub_path, fake_images=False)\n",
    "print(\"Done\")"
   ]
  }
 ],
 "metadata": {
  "kernelspec": {
   "display_name": "Python 3",
   "language": "python",
   "name": "python3"
  },
  "language_info": {
   "codemirror_mode": {
    "name": "ipython",
    "version": 3
   },
   "file_extension": ".py",
   "mimetype": "text/x-python",
   "name": "python",
   "nbconvert_exporter": "python",
   "pygments_lexer": "ipython3",
   "version": "3.7.9"
  }
 },
 "nbformat": 4,
 "nbformat_minor": 4
}
