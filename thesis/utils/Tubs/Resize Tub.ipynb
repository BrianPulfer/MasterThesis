{
 "cells": [
  {
   "cell_type": "markdown",
   "metadata": {},
   "source": [
    "<center><h1>Resize Tub</h1></center>"
   ]
  },
  {
   "cell_type": "code",
   "execution_count": 17,
   "metadata": {},
   "outputs": [],
   "source": [
    "import os\n",
    "from PIL import Image\n",
    "from shutil import copyfile"
   ]
  },
  {
   "cell_type": "code",
   "execution_count": 18,
   "metadata": {},
   "outputs": [
    {
     "name": "stdout",
     "output_type": "stream",
     "text": [
      "Insert path to tub to be resized: \t/Users/brianpulfer/mycar/data/tub320x240\n",
      "Insert resized tub destination path: \t/Users/brianpulfer/Desktop\n",
      "Insert new width for images in the tub: \t200\n",
      "Insert new height for images in the tub: \t110\n"
     ]
    }
   ],
   "source": [
    "def ask_for_os_path(text):\n",
    "    path = input(text)\n",
    "    \n",
    "    while not os.path.isdir(path):\n",
    "        print(\"INCORRECT PATH!\")\n",
    "        path = input(text)\n",
    "    return path\n",
    "\n",
    "src_path = ask_for_os_path(\"Insert path to tub to be resized: \\t\")\n",
    "dst_path = ask_for_os_path(\"Insert resized tub destination path: \\t\")\n",
    "\n",
    "width = int(input(\"Insert new width for images in the tub: \\t\"))\n",
    "height = int(input(\"Insert new height for images in the tub: \\t\"))"
   ]
  },
  {
   "cell_type": "code",
   "execution_count": 24,
   "metadata": {},
   "outputs": [
    {
     "name": "stdout",
     "output_type": "stream",
     "text": [
      "Finished\n"
     ]
    }
   ],
   "source": [
    "# Creating the new tub folder\n",
    "new_tub_name = \"tub\"+str(width)+\"x\"+str(height)\n",
    "new_tub_path = os.path.join(dst_path, new_tub_name)\n",
    "os.mkdir(new_tub_path)\n",
    "\n",
    "# Copying all files (resizing images)\n",
    "for name in os.listdir(src_path):\n",
    "    if os.path.isdir(name):\n",
    "        continue\n",
    "    \n",
    "    src, dst = os.path.join(src_path, name), os.path.join(new_tub_path, name)\n",
    "    \n",
    "    if 'jpg' not in name.lower():\n",
    "        copyfile(src, dst)\n",
    "    else:\n",
    "        Image.open(src).resize((width, height)).save(dst, \"JPEG\")\n",
    "print(\"Finished\")"
   ]
  }
 ],
 "metadata": {
  "kernelspec": {
   "display_name": "Python 3",
   "language": "python",
   "name": "python3"
  },
  "language_info": {
   "codemirror_mode": {
    "name": "ipython",
    "version": 3
   },
   "file_extension": ".py",
   "mimetype": "text/x-python",
   "name": "python",
   "nbconvert_exporter": "python",
   "pygments_lexer": "ipython3",
   "version": "3.8.3"
  }
 },
 "nbformat": 4,
 "nbformat_minor": 4
}
