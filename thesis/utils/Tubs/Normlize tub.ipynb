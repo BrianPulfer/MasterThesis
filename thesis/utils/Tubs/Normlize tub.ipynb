{
 "cells": [
  {
   "cell_type": "markdown",
   "metadata": {},
   "source": [
    "<center><h1>Normalize Tub</h1></center>\n",
    "\n",
    "<p>Given a path to a tub, a multiplier for the throttle and a multiplier for the steering, scales every throttle and steering in the tub by the specified amounts.</p>"
   ]
  },
  {
   "cell_type": "code",
   "execution_count": 4,
   "metadata": {},
   "outputs": [],
   "source": [
    "import os\n",
    "import json"
   ]
  },
  {
   "cell_type": "code",
   "execution_count": 7,
   "metadata": {},
   "outputs": [
    {
     "name": "stdout",
     "output_type": "stream",
     "text": [
      "Insert path to the tub that needs to be normalized: \t/Users/brianpulfer/Desktop/ten_laps_sim_clockwise_sim_3/tub\n",
      "Tub found\n",
      "Insert normalization factor (multiplier) for the THROTTLE \t0.3\n",
      "Insert normalization factor (multiplier) for the STEERING \t1\n"
     ]
    }
   ],
   "source": [
    "tub_path = input(\"Insert path to the tub that needs to be normalized: \\t\")\n",
    "\n",
    "if not os.path.isdir(tub_path):\n",
    "    tub_path = input(tub_path + \" is not a valid path. Insert path to the tub that needs to be normalized: \\t\")\n",
    "print(\"Tub found\")\n",
    "\n",
    "norm_factor_throttle = float(input(\"Insert normalization factor (multiplier) for the THROTTLE \\t\"))\n",
    "norm_factor_steering = float(input(\"Insert normalization factor (multiplier) for the STEERING \\t\"))"
   ]
  },
  {
   "cell_type": "code",
   "execution_count": 8,
   "metadata": {},
   "outputs": [
    {
     "name": "stdout",
     "output_type": "stream",
     "text": [
      "Normalization finished!\n"
     ]
    }
   ],
   "source": [
    "records_paths = [os.path.join(tub_path, file_name) for file_name in os.listdir(tub_path) if 'json' in file_name and 'record' in file_name]\n",
    "\n",
    "print(\"Normalizing {} files...\".format(len(records_paths)))\n",
    "for file_path in records_paths:\n",
    "    f = open(file_path, 'r')\n",
    "    json_obj = json.load(f)\n",
    "    f.close()\n",
    "    \n",
    "    json_obj['user/angle'] *= norm_factor_steering\n",
    "    json_obj['user/throttle'] *= norm_factor_throttle\n",
    "    \n",
    "    f = open(file_path, 'w')\n",
    "    f.write(str(json_obj).replace(\"'\", '\"').replace('None', 'null'))\n",
    "    f.close()\n",
    "\n",
    "print(\"Normalization finished!\")"
   ]
  }
 ],
 "metadata": {
  "kernelspec": {
   "display_name": "Python 3",
   "language": "python",
   "name": "python3"
  },
  "language_info": {
   "codemirror_mode": {
    "name": "ipython",
    "version": 3
   },
   "file_extension": ".py",
   "mimetype": "text/x-python",
   "name": "python",
   "nbconvert_exporter": "python",
   "pygments_lexer": "ipython3",
   "version": "3.8.3"
  }
 },
 "nbformat": 4,
 "nbformat_minor": 4
}
