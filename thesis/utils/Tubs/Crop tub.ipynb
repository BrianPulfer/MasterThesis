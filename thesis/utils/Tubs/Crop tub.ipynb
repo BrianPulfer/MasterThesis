{
 "cells": [
  {
   "cell_type": "code",
   "execution_count": 1,
   "metadata": {},
   "outputs": [],
   "source": [
    "import os\n",
    "from PIL import Image\n",
    "from shutil import copyfile"
   ]
  },
  {
   "cell_type": "code",
   "execution_count": 4,
   "metadata": {},
   "outputs": [],
   "source": [
    "def ask_for_os_path(text):\n",
    "    path = input(text)\n",
    "    \n",
    "    while not os.path.isdir(path):\n",
    "        print(\"INCORRECT PATH!\")\n",
    "        path = input(text)\n",
    "    return path\n",
    "\n",
    "src_path = ask_for_os_path(\"Insert path to tub to be resized: \\t\")\n",
    "dst_path = input(\"Insert cropped tub destination path: \\t\")\n",
    "\n",
    "crop = int(input(\"Insert the crop top value:\\t\"))"
   ]
  },
  {
   "cell_type": "code",
   "execution_count": 5,
   "metadata": {},
   "outputs": [
    {
     "name": "stdout",
     "output_type": "stream",
     "text": [
      "Finished\n"
     ]
    }
   ],
   "source": [
    "# Creating the new tub folder\n",
    "new_tub_name = \"cropped_tub\"\n",
    "new_tub_path = os.path.join(dst_path, new_tub_name)\n",
    "os.mkdir(new_tub_path)\n",
    "\n",
    "# Copying all files (resizing images)\n",
    "for name in os.listdir(src_path):\n",
    "    if os.path.isdir(name):\n",
    "        continue\n",
    "    \n",
    "    src, dst = os.path.join(src_path, name), os.path.join(new_tub_path, name)\n",
    "    \n",
    "    if 'jpg' not in name.lower():\n",
    "        # copyfile(src, dst)\n",
    "        pass\n",
    "    else:\n",
    "        img = Image.open(src)\n",
    "        w, h = img.size\n",
    "        img.crop((0, crop, w, h)).save(dst, \"JPEG\")\n",
    "print(\"Finished\")"
   ]
  },
  {
   "cell_type": "code",
   "execution_count": null,
   "metadata": {},
   "outputs": [],
   "source": []
  }
 ],
 "metadata": {
  "kernelspec": {
   "display_name": "Python 3",
   "language": "python",
   "name": "python3"
  },
  "language_info": {
   "codemirror_mode": {
    "name": "ipython",
    "version": 3
   },
   "file_extension": ".py",
   "mimetype": "text/x-python",
   "name": "python",
   "nbconvert_exporter": "python",
   "pygments_lexer": "ipython3",
   "version": "3.8.3"
  }
 },
 "nbformat": 4,
 "nbformat_minor": 4
}