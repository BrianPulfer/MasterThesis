{
 "cells": [
  {
   "cell_type": "markdown",
   "metadata": {
    "collapsed": true
   },
   "source": [
    "<center><h1>Align Tubs</h1></center>\n",
    "\n",
    "This script allows to \"allign\" two different tubs such that they contain the same number of images.<br/>\n",
    "<br/>\n",
    "In practice, this is used to allign one lap of the donkey car in the simulator with one lap taken on a real track. This allignment is needed to create a paired dataset for image-to-image translation tasks and for visualization."
   ]
  },
  {
   "cell_type": "code",
   "execution_count": 68,
   "metadata": {},
   "outputs": [],
   "source": [
    "import os\n",
    "import numpy as np\n",
    "from shutil import copy"
   ]
  },
  {
   "cell_type": "code",
   "execution_count": 69,
   "metadata": {},
   "outputs": [
    {
     "name": "stdout",
     "output_type": "stream",
     "text": [
      "Insert path to folder containing the 2 tubs:\taaa\n",
      "Folder found\n"
     ]
    }
   ],
   "source": [
    "# Getting the main folder\n",
    "request_string = \"Insert path to folder containing the 2 tubs:\\t\"\n",
    "\n",
    "folder_path = input(request_string)\n",
    "folder_path = '/Users/brianpulfer/mycar/data/one_lap/' # Delete this for using different paths\n",
    "\n",
    "while not os.path.isdir(folder_path):\n",
    "    print(folder_path, \"is not a valid path!\")\n",
    "    folder_path = input(request_string)\n",
    "print(\"Folder found\")"
   ]
  },
  {
   "cell_type": "code",
   "execution_count": 72,
   "metadata": {},
   "outputs": [
    {
     "name": "stdout",
     "output_type": "stream",
     "text": [
      "Tubs found:  ['/Users/brianpulfer/mycar/data/one_lap/clockwise_lap_sim', '/Users/brianpulfer/mycar/data/one_lap/clockwise_lap_real']\n",
      "Number of JPG images:  [416, 250]\n"
     ]
    }
   ],
   "source": [
    "# Getting the paths to the 2 tubs (taking first 2 tubs if multiple exist)\n",
    "tub_paths = []\n",
    "tub_lengths = []\n",
    "for tub in os.listdir(folder_path):\n",
    "    tub_path = os.path.join(folder_path, tub)\n",
    "    \n",
    "    if not os.path.isdir(tub_path) or 'ipynb_checkpoints' in tub:\n",
    "        continue\n",
    "        \n",
    "    length = 0\n",
    "    for file_name in os.listdir(tub_path):\n",
    "        if 'jpg' in file_name.lower():\n",
    "            length += 1\n",
    "    tub_paths.append(tub_path)\n",
    "    tub_lengths.append(length)\n",
    "    \n",
    "tub_paths = tub_paths[:2]\n",
    "tub_lengths = tub_lengths[:2]\n",
    "\n",
    "print(\"Tubs found: \\n\", tub_paths)\n",
    "print(\"\\nNumber of JPG images: \\n\", tub_lengths)"
   ]
  },
  {
   "cell_type": "code",
   "execution_count": 73,
   "metadata": {},
   "outputs": [
    {
     "name": "stdout",
     "output_type": "stream",
     "text": [
      "Tubs alligned!\n"
     ]
    }
   ],
   "source": [
    "# Copying the smaller tub as it is\n",
    "smaller_tub_path = tub_paths[np.argmin(tub_lengths)]\n",
    "os.mkdir(smaller_tub_path + \"_alligned\")\n",
    "\n",
    "for file_name in os.listdir(smaller_tub_path):\n",
    "    if 'jpg' not in file_name.lower():\n",
    "        continue\n",
    "        \n",
    "    src = os.path.join(smaller_tub_path, file_name)\n",
    "    dst = os.path.join(smaller_tub_path + \"_alligned\", file_name)\n",
    "    copy(src, dst)\n",
    "    \n",
    "# Copying some of the images from the bigger tub\n",
    "bigger_tub_path = tub_paths[np.argmax(tub_lengths)]\n",
    "os.mkdir(bigger_tub_path + \"_alligned\")\n",
    "\n",
    "# Finding which images (by index) have to be copied\n",
    "ratio = max(tub_lengths) / min(tub_lengths)\n",
    "image_indexes_to_get = np.arange(min(tub_lengths)) * ratio\n",
    "\n",
    "for i in range(len(image_indexes_to_get)):\n",
    "    idx = image_indexes_to_get[i]\n",
    "    \n",
    "    int_approx = int(idx)\n",
    "    if idx - int_approx > 0.5:\n",
    "        int_approx += 1\n",
    "        \n",
    "    image_indexes_to_get[i] = int_approx\n",
    "\n",
    "for file_name in sorted(os.listdir(bigger_tub_path)):\n",
    "    if 'jpg' not in file_name.lower():\n",
    "        continue\n",
    "        \n",
    "    image_index = int(file_name.split(\"_\")[0])\n",
    "    if image_index in image_indexes_to_get:\n",
    "        src = os.path.join(bigger_tub_path, file_name)\n",
    "        dst = os.path.join(bigger_tub_path + \"_alligned\", file_name)\n",
    "        copy(src, dst)\n",
    "    \n",
    "print(\"Tubs alligned!\")"
   ]
  }
 ],
 "metadata": {
  "kernelspec": {
   "display_name": "Python 3",
   "language": "python",
   "name": "python3"
  },
  "language_info": {
   "codemirror_mode": {
    "name": "ipython",
    "version": 3
   },
   "file_extension": ".py",
   "mimetype": "text/x-python",
   "name": "python",
   "nbconvert_exporter": "python",
   "pygments_lexer": "ipython3",
   "version": "3.8.3"
  }
 },
 "nbformat": 4,
 "nbformat_minor": 1
}
