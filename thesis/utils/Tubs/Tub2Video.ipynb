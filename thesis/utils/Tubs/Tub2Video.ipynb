{
 "cells": [
  {
   "cell_type": "code",
   "execution_count": 1,
   "metadata": {},
   "outputs": [],
   "source": [
    "import os\n",
    "import cv2\n",
    "import numpy as np\n",
    "from matplotlib import pyplot as plt"
   ]
  },
  {
   "cell_type": "code",
   "execution_count": 2,
   "metadata": {},
   "outputs": [],
   "source": [
    "results_tub_path = '/Users/brianpulfer/Desktop/testA'"
   ]
  },
  {
   "cell_type": "code",
   "execution_count": 6,
   "metadata": {},
   "outputs": [
    {
     "name": "stdout",
     "output_type": "stream",
     "text": [
      "Done\n"
     ]
    }
   ],
   "source": [
    "def get_video(path):\n",
    "    filenames = [filename for filename in list(os.listdir(path)) if 'jpg' in filename.lower()]\n",
    "\n",
    "    try:\n",
    "        filenames.sort(key=lambda filename: int(filename.split('_')[0]))\n",
    "    except ValueError:\n",
    "        filenames.sort(key=lambda filename: int(filename.split('_')[1].split('.jpg')[0]))\n",
    "\n",
    "    path = path + '/' if path[-1] != '/' else path\n",
    "    \n",
    "    img_array = [cv2.imread(path + filename) for filename in filenames]\n",
    "    w, h, c = img_array[0].shape\n",
    "    size = (w, h)\n",
    "\n",
    "    out = cv2.VideoWriter('video.mp4',cv2.VideoWriter_fourcc(*'MP4V'), 15, size)\n",
    "\n",
    "    for i in range(len(img_array)):\n",
    "        out.write(img_array[i])\n",
    "    out.release()\n",
    "\n",
    "get_video(results_tub_path)\n",
    "print(\"Done\")"
   ]
  },
  {
   "cell_type": "code",
   "execution_count": null,
   "outputs": [],
   "source": [],
   "metadata": {
    "collapsed": false,
    "pycharm": {
     "name": "#%%\n"
    }
   }
  }
 ],
 "metadata": {
  "kernelspec": {
   "display_name": "Python 3",
   "language": "python",
   "name": "python3"
  },
  "language_info": {
   "codemirror_mode": {
    "name": "ipython",
    "version": 3
   },
   "file_extension": ".py",
   "mimetype": "text/x-python",
   "name": "python",
   "nbconvert_exporter": "python",
   "pygments_lexer": "ipython3",
   "version": "3.7.9"
  }
 },
 "nbformat": 4,
 "nbformat_minor": 4
}