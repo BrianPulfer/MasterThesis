{
 "cells": [
  {
   "cell_type": "code",
   "execution_count": 1,
   "metadata": {},
   "outputs": [],
   "source": [
    "import os\n",
    "import shutil"
   ]
  },
  {
   "cell_type": "code",
   "execution_count": 6,
   "metadata": {},
   "outputs": [
    {
     "name": "stdout",
     "output_type": "stream",
     "text": [
      "Insert path to first tub: /Users/brianpulfer/mycar/data/tub_1_20-12-22\n",
      "Insert path to second tub: /Users/brianpulfer/mycar/data/tub_2_20-12-22\n",
      "Insert merged tub folder path: /Users/brianpulfer/Desktop/sim_usitrack_320x240/\n",
      "Ok\n"
     ]
    }
   ],
   "source": [
    "tub1_path = input(\"Insert path to first tub: \")\n",
    "tub2_path = input(\"Insert path to second tub: \")\n",
    "tub_new_path = input(\"Insert merged tub folder path: \")\n",
    "\n",
    "if not os.path.isdir(tub1_path) or not os.path.isdir(tub2_path) or not os.path.isdir(tub_new_path):\n",
    "    print(\"One of the specified tub paths is invalid!\")\n",
    "else:\n",
    "    print(\"OK! All paths exist.\")"
   ]
  },
  {
   "cell_type": "code",
   "execution_count": 34,
   "metadata": {},
   "outputs": [],
   "source": [
    "def copytree(src, dst, symlinks=False, ignore=None):\n",
    "    for item in os.listdir(src):\n",
    "        s = os.path.join(src, item)\n",
    "        d = os.path.join(dst, item)\n",
    "        if os.path.isdir(s):\n",
    "            shutil.copytree(s, d, symlinks, ignore)\n",
    "        else:\n",
    "            shutil.copy2(s, d)\n",
    "            \n",
    "# Copying tub1 directory to destination\n",
    "copytree(tub1_path, tub_new_path)"
   ]
  },
  {
   "cell_type": "code",
   "execution_count": 33,
   "metadata": {},
   "outputs": [],
   "source": [
    "# Highest record number for tub 1\n",
    "max_num_tub1 = max([int(filename.split('_')[0]) for filename in os.listdir(tub1_path) if \"cam\" in filename])\n",
    "\n",
    "# Moving old tub to new one\n",
    "counter = 1\n",
    "for filename in sorted(os.listdir(tub2_path)):\n",
    "    if \"cam\" not in filename:\n",
    "        continue\n",
    "    \n",
    "    # Getting new names\n",
    "    new_nr = str(max_num_tub1 + counter)\n",
    "    counter += 1\n",
    "    \n",
    "    old_name_cam = filename\n",
    "    old_name_record = 'record_'+filename.split(\"_\")[0]+\".json\"\n",
    "    new_name_cam = new_nr + '_' + '_'.join(filename.split('_')[1:])\n",
    "    new_name_record = \"record_\" + new_nr + \".json\"\n",
    "    \n",
    "    # Moving the camera image\n",
    "    src, dst = os.path.join(tub2_path, old_name_cam), os.path.join(tub_new_path, new_name_cam)\n",
    "    shutil.move(src, dst)\n",
    "    \n",
    "    # Moving the JSON record\n",
    "    src, dst = os.path.join(tub2_path, old_name_record), os.path.join(tub_new_path, new_name_record)\n",
    "    shutil.move(src, dst)"
   ]
  }
 ],
 "metadata": {
  "kernelspec": {
   "display_name": "Python 3",
   "language": "python",
   "name": "python3"
  },
  "language_info": {
   "codemirror_mode": {
    "name": "ipython",
    "version": 3
   },
   "file_extension": ".py",
   "mimetype": "text/x-python",
   "name": "python",
   "nbconvert_exporter": "python",
   "pygments_lexer": "ipython3",
   "version": "3.8.3"
  }
 },
 "nbformat": 4,
 "nbformat_minor": 1
}
