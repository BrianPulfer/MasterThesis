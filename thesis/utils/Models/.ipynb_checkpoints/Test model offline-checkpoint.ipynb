{
 "cells": [
  {
   "cell_type": "code",
   "execution_count": 1,
   "metadata": {},
   "outputs": [],
   "source": [
    "import os\n",
    "import json\n",
    "import numpy as np\n",
    "from PIL import Image\n",
    "from tqdm import tqdm\n",
    "import tensorflow as tf\n",
    "from tensorflow import keras\n",
    "from matplotlib.pyplot import imshow\n",
    "%matplotlib inline"
   ]
  },
  {
   "cell_type": "code",
   "execution_count": null,
   "metadata": {},
   "outputs": [],
   "source": [
    "model_path = input(\"Insert path to the Model: \\t\")\n",
    "crop_top = int(input(\"Insert model crop top value: \\t\"))\n",
    "tub_path = input(\"Insert path to the tub of the track: \\t\")\n",
    "tub_path = tub_path + '/' if tub_path[-1] != '/' else tub_path\n",
    "\n",
    "while not os.path.isdir(tub_path) or not os.path.isfile(model_path):\n",
    "    print(\"One of the paths was incorrect\")\n",
    "    \n",
    "    model_path = input(\"Insert path to the Model: \\t\")\n",
    "    tub_path = input(\"Insert path to the tub of the track: \\t\")\n",
    "    tub_path = tub_path + '/' if tub_path[-1] != '/' else tub_path"
   ]
  },
  {
   "cell_type": "code",
   "execution_count": 2,
   "metadata": {},
   "outputs": [],
   "source": [
    "# TODO: Delete this cell\n",
    "model_path = \"/Users/brianpulfer/mycar/models/tests/architectures/dave2.h5\"\n",
    "tub_path = \"/Users/brianpulfer/mycar/data/tub200x110\"\n",
    "tub_path = tub_path + '/' if tub_path[-1] != '/' else tub_path\n",
    "crop_top = 44"
   ]
  },
  {
   "cell_type": "code",
   "execution_count": 5,
   "metadata": {},
   "outputs": [
    {
     "name": "stdout",
     "output_type": "stream",
     "text": [
      "Detected images size:  (320, 240)\n",
      "Image size after top crop:  (320, 196)\n"
     ]
    },
    {
     "ename": "NameError",
     "evalue": "name 'MODEL_INPUT_SIZE' is not defined",
     "output_type": "error",
     "traceback": [
      "\u001b[0;31m---------------------------------------------------------------------------\u001b[0m",
      "\u001b[0;31mNameError\u001b[0m                                 Traceback (most recent call last)",
      "\u001b[0;32m<ipython-input-5-bf2c581159ae>\u001b[0m in \u001b[0;36m<module>\u001b[0;34m\u001b[0m\n\u001b[1;32m     13\u001b[0m \u001b[0mprint\u001b[0m\u001b[0;34m(\u001b[0m\u001b[0;34m\"Detected images size: \"\u001b[0m\u001b[0;34m,\u001b[0m \u001b[0mfirst_image\u001b[0m\u001b[0;34m.\u001b[0m\u001b[0msize\u001b[0m\u001b[0;34m)\u001b[0m\u001b[0;34m\u001b[0m\u001b[0;34m\u001b[0m\u001b[0m\n\u001b[1;32m     14\u001b[0m \u001b[0mprint\u001b[0m\u001b[0;34m(\u001b[0m\u001b[0;34m\"Image size after top crop: \"\u001b[0m\u001b[0;34m,\u001b[0m \u001b[0;34m(\u001b[0m\u001b[0mw\u001b[0m\u001b[0;34m,\u001b[0m \u001b[0mh\u001b[0m\u001b[0;34m)\u001b[0m\u001b[0;34m)\u001b[0m\u001b[0;34m\u001b[0m\u001b[0;34m\u001b[0m\u001b[0m\n\u001b[0;32m---> 15\u001b[0;31m \u001b[0mprint\u001b[0m\u001b[0;34m(\u001b[0m\u001b[0;34m\"Detected model input size: \"\u001b[0m\u001b[0;34m,\u001b[0m \u001b[0mMODEL_INPUT_SIZE\u001b[0m\u001b[0;34m)\u001b[0m\u001b[0;34m\u001b[0m\u001b[0;34m\u001b[0m\u001b[0m\n\u001b[0m\u001b[1;32m     16\u001b[0m \u001b[0;34m\u001b[0m\u001b[0m\n\u001b[1;32m     17\u001b[0m \u001b[0;32mif\u001b[0m \u001b[0mMODEL_INPUT_SIZE\u001b[0m \u001b[0;34m!=\u001b[0m \u001b[0;34m(\u001b[0m\u001b[0mw\u001b[0m\u001b[0;34m,\u001b[0m \u001b[0mh\u001b[0m\u001b[0;34m)\u001b[0m\u001b[0;34m:\u001b[0m\u001b[0;34m\u001b[0m\u001b[0;34m\u001b[0m\u001b[0m\n",
      "\u001b[0;31mNameError\u001b[0m: name 'MODEL_INPUT_SIZE' is not defined"
     ]
    }
   ],
   "source": [
    "# Loading model\n",
    "model = keras.models.load_model(model_path)\n",
    "\n",
    "# Getting model input size\n",
    "MODEL_INPUT_SIZE = model.layers[0]._batch_input_shape[1:3]\n",
    "MODEL_INPUT_SIZE = (MODEL_INPUT_SIZE[1], MODEL_INPUT_SIZE[0])\n",
    "\n",
    "# Getting dataset image size\n",
    "images_names = [name for name in sorted(os.listdir(tub_path)) if 'jpg' in name.lower()]\n",
    "first_image = Image.open(tub_path + images_names[0])\n",
    "\n",
    "w, h = (first_image.size[0], first_image.size[1] - crop_top)\n",
    "print(\"Detected images size: \", first_image.size)\n",
    "print(\"Image size after top crop: \", (w, h))\n",
    "print(\"Detected model input size: \", MODEL_INPUT_SIZE)\n",
    "\n",
    "if MODEL_INPUT_SIZE != (w, h):\n",
    "    print(\"WARNING: Input sizes do not match! Reshaping might yield bad predictions\")\n",
    "else:\n",
    "    print(\"Sizes seem to match\\n\")\n",
    "    \n",
    "model.summary()"
   ]
  },
  {
   "cell_type": "code",
   "execution_count": 159,
   "metadata": {},
   "outputs": [
    {
     "name": "stderr",
     "output_type": "stream",
     "text": [
      "  0%|          | 0/3781 [00:00<?, ?it/s]"
     ]
    },
    {
     "name": "stdout",
     "output_type": "stream",
     "text": [
      "[array([[41.118546]], dtype=float32), array([[15.79933]], dtype=float32)]\n"
     ]
    },
    {
     "name": "stderr",
     "output_type": "stream",
     "text": [
      "\n"
     ]
    }
   ],
   "source": [
    "# Looping through the images\n",
    "angle_mse, throttle_mse = 0, 0\n",
    "n = len([i for i in os.listdir(tub_path) if 'jpg' in i.lower()])\n",
    "\n",
    "for image_name in tqdm(images_names):\n",
    "    if 'jpg' not in image_name.lower():\n",
    "        continue\n",
    "    \n",
    "    # Defining paths\n",
    "    image_path = os.path.join(tub_path, image_name)\n",
    "    record_path = os.path.join(tub_path, \"record_\" + image_name.split(\"_\")[0] + \".json\")\n",
    "    \n",
    "    # Loading image and relative record\n",
    "    left, upper, right, lower = 0, crop_top, w, h + crop_top\n",
    "    image = Image.open(image_path)\n",
    "    cropped = image.crop(box=(left, upper, right, lower))\n",
    "    resized = cropped.resize(MODEL_INPUT_SIZE)\n",
    "    \n",
    "    record = json.load(open(record_path))\n",
    "    \n",
    "    # Loading labels\n",
    "    angle = record['user/angle']\n",
    "    throttle = record['user/throttle']\n",
    "    \n",
    "    # Getting the prediction and the error\n",
    "    prediction = model.predict(np.array([np.array(resized).astype(np.float32)]))\n",
    "    \n",
    "    print(prediction)\n",
    "    predicted_angle = np.array(prediction[0][0][0])\n",
    "    predicted_throttle = np.array(prediction[1][0][0])\n",
    "    \n",
    "    angle_mse += (predicted_angle - angle)**2 / n\n",
    "    throttle_mse += (predicted_throttle - throttle)**2 / n\n",
    "    break"
   ]
  },
  {
   "cell_type": "code",
   "execution_count": 160,
   "metadata": {},
   "outputs": [
    {
     "data": {
      "text/plain": [
       "41.118546"
      ]
     },
     "execution_count": 160,
     "metadata": {},
     "output_type": "execute_result"
    }
   ],
   "source": [
    "prediction[0][0][0]"
   ]
  },
  {
   "cell_type": "code",
   "execution_count": 161,
   "metadata": {},
   "outputs": [
    {
     "data": {
      "text/plain": [
       "15.79933"
      ]
     },
     "execution_count": 161,
     "metadata": {},
     "output_type": "execute_result"
    }
   ],
   "source": [
    "prediction[1][0][0]"
   ]
  },
  {
   "cell_type": "code",
   "execution_count": 15,
   "metadata": {},
   "outputs": [
    {
     "data": {
      "text/plain": [
       "(240, 320, 3)"
      ]
     },
     "execution_count": 15,
     "metadata": {},
     "output_type": "execute_result"
    }
   ],
   "source": [
    "np.array(first_image).shape"
   ]
  },
  {
   "cell_type": "code",
   "execution_count": 12,
   "metadata": {},
   "outputs": [
    {
     "data": {
      "image/png": "[encoded data removed]",
      "text/plain": [
       "<PIL.Image.Image image mode=RGB size=200x110 at 0x7FD7A54345E0>"
      ]
     },
     "execution_count": 12,
     "metadata": {},
     "output_type": "execute_result"
    }
   ],
   "source": [
    "first_image.crop(box=(0, 44, 200, 110+44))"
   ]
  },
  {
   "cell_type": "code",
   "execution_count": null,
   "metadata": {},
   "outputs": [],
   "source": []
  }
 ],
 "metadata": {
  "kernelspec": {
   "display_name": "Python 3",
   "language": "python",
   "name": "python3"
  },
  "language_info": {
   "codemirror_mode": {
    "name": "ipython",
    "version": 3
   },
   "file_extension": ".py",
   "mimetype": "text/x-python",
   "name": "python",
   "nbconvert_exporter": "python",
   "pygments_lexer": "ipython3",
   "version": "3.8.3"
  }
 },
 "nbformat": 4,
 "nbformat_minor": 4
}
