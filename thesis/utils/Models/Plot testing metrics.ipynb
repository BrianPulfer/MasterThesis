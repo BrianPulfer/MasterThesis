{
 "cells": [
  {
   "cell_type": "markdown",
   "metadata": {},
   "source": [
    "<center><h1>Plot Testing Metrics</h1></center>\n",
    "\n",
    "Plots testing metrics such as XTE, Steering Variance, etc..."
   ]
  },
  {
   "cell_type": "code",
   "execution_count": 1,
   "metadata": {},
   "outputs": [],
   "source": [
    "import os\n",
    "import pandas as pd\n",
    "import numpy as np\n",
    "import matplotlib.pyplot as plt"
   ]
  },
  {
   "cell_type": "code",
   "execution_count": 2,
   "metadata": {},
   "outputs": [],
   "source": [
    "def load_csv(path_to_file):\n",
    "    return pd.read_csv(path_to_file, sep=\";\").dropna(axis='columns')\n",
    "\n",
    "def plot_csv(data, data_labels, colors, title):\n",
    "    x = np.arange(len(data)) + 1\n",
    "    \n",
    "    for data_label, color in zip(data_labels, colors):\n",
    "        plt.plot(x, data[data_label], color+'-', label=data_label)\n",
    "    plt.legend(loc=\"upper left\")\n",
    "    plt.ylim(0, 20)\n",
    "    plt.title(title)\n",
    "    plt.show()\n",
    "\n",
    "def plot_stats_laps(path_to_file, title):\n",
    "    plot_csv(path_to_file, ['XTE avg', 'Steer avg', 'Speed avg'], ['r', 'g', 'b'], title)\n",
    "    \n",
    "def plot_stats_frames(path_to_file, title):\n",
    "    plot_csv(path_to_file, ['XTE', 'Steering', 'Throttle'], ['r', 'g', 'b'], title)\n",
    "    \n",
    "def plot_multiple_through_time(datas, metric, labels, title=None):\n",
    "    for data, label in zip(datas, labels):\n",
    "        y = data[metric]\n",
    "        x = np.arange(len(data))\n",
    "        plt.plot(x, y, label=label)\n",
    "    if title:\n",
    "        plt.title(title)\n",
    "    plt.legend(loc=\"upper left\")\n",
    "    plt.show()\n",
    "    \n",
    "def print_stats(data, model_name=''):\n",
    "    xte_avg = round(np.mean(abs(data['XTE'].astype('float'))), 3)\n",
    "    xte_max = round(np.max(abs(data['XTE'].astype('float'))), 3)\n",
    "    steer_avg = round(np.mean(abs(data['Steering'].astype('float'))), 3)\n",
    "    steer_std = round(np.std(abs(data['Steering'].astype('float'))), 3)\n",
    "    vel_avg = round(np.mean(abs(data['Velocity'].astype('float'))), 3)\n",
    "    vel_std = round(np.std(abs(data['Velocity'].astype('float'))), 3)\n",
    "    print(model_name, xte_avg, \"&\",  xte_max, \"&\", steer_avg, \"&\", steer_std, \"&\", vel_avg, \"&\", vel_std)"
   ]
  },
  {
   "cell_type": "markdown",
   "metadata": {},
   "source": [
    "# 0 - Human-collected data"
   ]
  },
  {
   "cell_type": "code",
   "execution_count": 3,
   "metadata": {},
   "outputs": [],
   "source": [
    "human_path = '/Users/brianpulfer/Desktop/USI/MAI-Thesis/Thesis/tests/sim/320x240 dataset/Frames - 2021-2-26-10h_22m.csv'"
   ]
  },
  {
   "cell_type": "markdown",
   "metadata": {},
   "source": [
    "# Cropping Experiment"
   ]
  },
  {
   "cell_type": "code",
   "execution_count": 69,
   "metadata": {},
   "outputs": [
    {
     "name": "stdout",
     "output_type": "stream",
     "text": [
      "0.569 & 3.437 & 9.744 & 7.316 & 4.764 & 0.686\n",
      "0.459 & 3.894 & 9.025 & 5.792 & 4.901 & 0.756\n",
      "0.498 & 3.636 & 8.915 & 5.771 & 5.134 & 0.747\n",
      "3.013 & 12.416 & 7.986 & 5.053 & 3.917 & 2.059\n"
     ]
    }
   ],
   "source": [
    "base = '/Users/brianpulfer/Desktop/USI/MAI-Thesis/Thesis/tests/sim/1 - cropping/'\n",
    "\n",
    "crop80_path = base + 'crop80/Frames - 2021-2-26-14h_35m.csv'\n",
    "crop100_path = base + 'crop100/Frames - 2021-2-26-14h_48m.csv'\n",
    "crop120_path = base + 'crop120/Frames - 2021-2-26-14h_54m.csv'\n",
    "\n",
    "paths = [human_path, crop80_path, crop100_path, crop120_path]\n",
    "datas = [load_csv(path) for path in paths]\n",
    "for i in range(len(datas)):\n",
    "    datas[i] =  datas[i][datas[i]['Lap'] < 11]\n",
    "    \n",
    "for data in datas:\n",
    "    print_stats(data)"
   ]
  },
  {
   "cell_type": "markdown",
   "metadata": {},
   "source": [
    "# Architectures Experiment"
   ]
  },
  {
   "cell_type": "code",
   "execution_count": 4,
   "metadata": {
    "pycharm": {
     "name": "#%%\n"
    }
   },
   "outputs": [
    {
     "name": "stdout",
     "output_type": "stream",
     "text": [
      "HUMAN 0.569 & 3.437 & 9.745 & 7.316 & 4.765 & 0.685\n",
      "DEFAULT 0.496 & 3.113 & 9.596 & 6.682 & 4.997 & 0.709\n",
      "EPOCH 0.577 & 2.532 & 8.737 & 6.678 & 5.421 & 0.807\n",
      "CHAUFFEUR 0.508 & 2.72 & 9.329 & 5.717 & 5.365 & 0.809\n",
      "DAVE2 0.536 & 3.0 & 9.384 & 6.368 & 4.952 & 0.745\n"
     ]
    }
   ],
   "source": [
    "base = '/Users/brianpulfer/Desktop/USI/MAI-Thesis/Thesis/tests/sim/3 - different architectures/'\n",
    "\n",
    "default_path = base + 'default/Frames - 2021-3-5-18h_14m.csv'\n",
    "epoch_path = base + 'epoch/Frames - 2021-3-5-18h_21m.csv'\n",
    "chauffeur_path = base + 'chauffeur/Frames - 2021-3-10-08h_08m.csv'\n",
    "dave2_path = base + 'dave2/Frames - 2021-3-12-09h_38m.csv'\n",
    "\n",
    "names = ['HUMAN', 'DEFAULT', 'EPOCH', 'CHAUFFEUR', 'DAVE2']\n",
    "paths = [human_path, default_path, epoch_path, chauffeur_path, dave2_path]\n",
    "datas = [load_csv(path) for path in paths]\n",
    "\n",
    "for i in range(len(datas)):\n",
    "    data = datas[i][1:]\n",
    "    datas[i] =  data[data['Lap'].astype('int32') < 11]\n",
    "    \n",
    "for data, name in zip(datas, names):\n",
    "    print_stats(data, name)\n"
   ]
  }
 ],
 "metadata": {
  "kernelspec": {
   "display_name": "Python 3",
   "language": "python",
   "name": "python3"
  },
  "language_info": {
   "codemirror_mode": {
    "name": "ipython",
    "version": 3
   },
   "file_extension": ".py",
   "mimetype": "text/x-python",
   "name": "python",
   "nbconvert_exporter": "python",
   "pygments_lexer": "ipython3",
   "version": "3.8.3"
  }
 },
 "nbformat": 4,
 "nbformat_minor": 4
}